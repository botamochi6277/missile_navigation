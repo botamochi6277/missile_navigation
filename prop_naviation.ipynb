{
  "nbformat": 4,
  "nbformat_minor": 0,
  "metadata": {
    "kernelspec": {
      "display_name": "Python 3",
      "language": "python",
      "name": "python3"
    },
    "toc": {
      "base_numbering": 1,
      "nav_menu": {},
      "number_sections": true,
      "sideBar": true,
      "skip_h1_title": false,
      "title_cell": "Table of Contents",
      "title_sidebar": "Contents",
      "toc_cell": false,
      "toc_position": {},
      "toc_section_display": true,
      "toc_window_display": false
    },
    "colab": {
      "name": "prop_naviation.ipynb",
      "provenance": [],
      "collapsed_sections": []
    }
  },
  "cells": [
    {
      "cell_type": "markdown",
      "metadata": {
        "id": "UW_PWGK7VjvU",
        "colab_type": "text"
      },
      "source": [
        "# Missile Navigation Test\n",
        "\n",
        "[こうへい さんの解説記事](https://blog.rikei-tawamure.com/entry/2020/03/20/192853)のjupyter notebook を元に編集したものです．\n",
        "\n",
        "以下のコンセプトで元ファイルを編集しています．\n",
        "\n",
        "- 運動方程式などの情報を追加\n",
        "- numpy を上手に使う\n"
      ]
    },
    {
      "cell_type": "markdown",
      "metadata": {
        "id": "bqC5JiC-VjvV",
        "colab_type": "text"
      },
      "source": [
        "## ミサイルの運動方程式\n",
        "\n",
        "元の記事とは順番が代わりますが，先に前提条件に付いて話します．\n",
        "\n",
        "![](https://cdn-ak.f.st-hatena.com/images/fotolife/k/kouhei_ito/20200320/20200320181112.png)\n",
        "\n",
        "\n",
        "まず，ミサイルの運動方程式は一般的な質点の運動と同様に次のようになります．\n",
        "\n",
        "|   |   | \n",
        "|---|---|\n",
        "|  \\\\( m \\\\) |  質量 | \n",
        "|  \\\\( \\vec{a} \\\\) |  加速度 | \n",
        "|  \\\\( \\vec{f} \\\\) |  力 | \n",
        "|  \\\\( \\vec{v} \\\\) |  速度 | \n",
        "|  \\\\( \\vec{p} \\\\) |  位置 | \n",
        "\n",
        "\\begin{align}\n",
        "m \\vec{a} &= \\vec{f} \\\\\n",
        "\\vec{v} &= \\int \\vec{a} dt \\\\\n",
        "\\vec{p} &= \\int \\vec{v} \\ dt\n",
        "\\end{align}\n",
        "\n",
        "ターゲットの位置を\\\\(\\vec{p}_t\\\\)とすると，相対位置ベクトル\\\\(\\vec{x}\\\\)は次のようになります．\n",
        "\n",
        "\\begin{align}\n",
        "\\vec{x} = \\vec{p}_t - \\vec{p}\n",
        "\\end{align}\n",
        "\n",
        "**元記事で書かれているLOS(Line of Sight)は\\\\(\\vec{x}\\\\)のことです．**\n",
        "\n",
        "今回は常に\\\\( \\vec{a} \\\\)を\\\\( \\vec{v} \\\\)に対して垂直にかけます．そのため\\\\( \\vec{v} \\\\)の大きさは一定です(等速円運動を思い出してください)．\n",
        "\n",
        "この後，ベクトルの偏角を求めたいので任意のベクトル\\\\( \\vec{u}\\\\) の偏角\\\\(\\theta_u\\\\)を\n",
        "\n",
        "\\begin{align}\n",
        "\\theta_u = \\angle \\vec{u} = \\tan^{-1} \\frac{u_y}{u_x}\n",
        "\\end{align}\n",
        "\n",
        "のように定義します．一般的には\\\\(\\angle, \\mathrm{ang}\\\\)は複素数に対して用います．"
      ]
    },
    {
      "cell_type": "markdown",
      "metadata": {
        "id": "l_tfaTt5WHQX",
        "colab_type": "text"
      },
      "source": [
        "元記事で紹介されている2つの誘導方法，PNNとPNについて考えていきます．\n",
        "\n",
        "## 単純追尾航法　PPN（Pure Pursuit Navigation）\n",
        "![PNN](https://cdn-ak.f.st-hatena.com/images/fotolife/k/kouhei_ito/20200320/20200320153801.png)\n",
        "\n",
        "\n",
        "この場合，\\\\(\\vec{x}\\\\) と\\\\( \\vec{v}\\\\)のなす角\\\\( \\theta \\\\)を\\\\(0\\\\)にするように制御します．\n",
        "\\begin{align}\n",
        "\\theta &= \\angle \\vec{x} - \\angle \\vec{v}\n",
        "\\end{align}\n",
        "\n",
        "\n",
        "定数\\\\(k\\\\)を使うと，加速度の大きさは次のように書けます．\n",
        "\\begin{align}\n",
        "|\\vec{a}| &= k \\theta\n",
        "\\end{align}\n",
        "\n"
      ]
    },
    {
      "cell_type": "markdown",
      "metadata": {
        "id": "dkEdiNcf-gTv",
        "colab_type": "text"
      },
      "source": [
        "## 比例航法 PN (Proportional Navigation)\n",
        "![PN](https://cdn-ak.f.st-hatena.com/images/fotolife/k/kouhei_ito/20200320/20200320153855.png)\n",
        "\n",
        "<!-- \\\\( \\vec{a} \\\\)は\\\\( \\vec{v}\\\\)に垂直． -->\n",
        "ここで次のようにLOSの方向を示す角度\\\\( \\lambda \\\\)を定義します．\n",
        "\\begin{align}\n",
        "\\lambda &= \\angle \\vec{x}\n",
        "\\end{align}\n",
        "\n",
        "<!-- 今回はミサイルに初速を与えた後は， \\\\(\\vec{a}\\\\)は\\\\(\\vec{v}\\\\)に垂直にしか与えません． -->\n",
        "<!-- つまり，ミサイルの速さは一定で向きだけ変わり，次の式が成り立ちます． -->\n",
        "\n",
        "<!-- \\begin{align}\n",
        "\\vec{v} \\cdot \\vec{a} &= 0\n",
        "\\end{align} -->\n",
        "\n",
        "PN法では定数\\\\(N\\\\)を用いて\\\\(|\\vec{a}|\\\\)を次のように与えます．\n",
        "\n",
        "\\begin{align}\n",
        "|\\vec{a}| &= N \\dot{\\lambda} |\\vec{v}|\n",
        "\\end{align}\n",
        "\n",
        "ここで， 微小時間\\\\(\\Delta t\\\\)における\\\\(\\lambda\\\\)の変化量を\\\\(\\Delta \\lambda\\\\) とします．\n",
        "\\\\(\\Delta \\lambda\\\\)は\\\\(\\vec{x}\\\\)と\\\\(\\vec{x} + \\dot{\\vec{x}} \\Delta t\\\\)のなす角になります．余弦定理によって，\\\\(\\Delta \\lambda\\\\)は次のように書けます．\n",
        "\n",
        "\n",
        "\\begin{align}\n",
        "\\cos\\Delta \\lambda &= \\frac{\\vec{x} \\cdot (\\vec{x} + \\dot{\\vec{x}}\\Delta t)}{|\\vec{x} | |\\vec{x} + \\dot{\\vec{x}}\\Delta t| }\n",
        "\\end{align}\n",
        "\n",
        "...ですが！`arctan2`を使ってベクトルの偏角の差を求めた方が楽なのでこちらを使います(3次元の場合は使えません)．\n",
        "\n",
        "\\begin{align}\n",
        "\\Delta \\lambda &= \\angle (\\vec{x} + \\dot{\\vec{x}} \\Delta t) - \\angle \\vec{x} \\\\\n",
        "\\end{align}\n",
        "\n",
        "さらに数値計算上，\\\\(\\dot{\\lambda}\\\\)を次のように得ることができます．\n",
        "\\begin{align}\n",
        "\\dot{\\lambda} &= \\frac{\\Delta \\lambda}{\\Delta t}\n",
        "\\end{align}\n"
      ]
    },
    {
      "cell_type": "code",
      "metadata": {
        "id": "vHZwswu_mZlp",
        "colab_type": "code",
        "colab": {}
      },
      "source": [
        "# import libraries\n",
        "import numpy as np\n",
        "import matplotlib.pyplot as plt\n",
        "import pandas as pd\n",
        "\n",
        "# config matplotlib\n",
        "plt.style.use('seaborn-colorblind')\n",
        "plt.style.use('seaborn-whitegrid')\n",
        "plt.rcParams['figure.figsize'] = 800/72,600/72\n",
        "plt.rcParams[\"font.size\"] = 21"
      ],
      "execution_count": 0,
      "outputs": []
    },
    {
      "cell_type": "code",
      "metadata": {
        "id": "-N3kEHWAI_VJ",
        "colab_type": "code",
        "outputId": "52ec37fc-b0aa-4b43-da9d-de5d9c303329",
        "colab": {
          "base_uri": "https://localhost:8080/",
          "height": 34
        }
      },
      "source": [
        "### Initialize ###\n",
        "\n",
        "# Target Initial condition\n",
        "\n",
        "pos_target = np.array([10.0,0.0]) # target position\n",
        "vel_target = np.array([0.0,0.2]) # target velocity\n",
        "acc_target = np.array([-0.01,0.0]) # target acceralation\n",
        "\n",
        "\n",
        "# Missile initial condition\n",
        "\n",
        "pos_missile = np.array([0.0,0.0]) # missile position\n",
        "vel_missile = np.array([1.0,0.0]) # missile velocity\n",
        "acc_missile = np.array([-1.0,0.0]) #missile acceralation\n",
        "\n",
        "# Initial LOS\n",
        "x_los = pos_target - pos_missile # LOS\n",
        "v_los = vel_target - vel_missile # LOS の変化率\n",
        "\n",
        "lambda_dot = 0.0\n",
        "\n",
        "N_PPN = 10.0\n",
        "N_PN = 3.0 ## constant coefficient\n",
        "\n",
        "### End Initialize ###\n",
        "\n",
        "### Simulation Start ###\n",
        "\n",
        "time = 0.0\n",
        "delta_t = 0.1 # time step\n",
        "acc_norm = 0.0;\n",
        "df = pd.DataFrame({\"time\":[time],\n",
        "                   \"missile_x\":[pos_missile[0]],\n",
        "                   \"missile_y\":[pos_missile[1]],\n",
        "                   \"target_x\":[pos_target[0]],\n",
        "                   \"target_y\":[pos_target[1]],\n",
        "                   \"los_x\":[x_los[0]],\n",
        "                   \"los_y\":[x_los[1]],\n",
        "                   \"acc_norm\": [acc_norm]\n",
        "                   })\n",
        "\n",
        "while True:\n",
        "    if time > 30.0:\n",
        "      print(\"time over\")\n",
        "      break\n",
        "\n",
        "    time += delta_t\n",
        "\n",
        "    #PPN\n",
        "    # theta = np.arctan2(x_los[1],x_los[0])-np.arctan2(vel_missile[1],vel_missile[0])\n",
        "    # acc_norm = N_PPN*theta\n",
        "    \n",
        "    # PN\n",
        "    acc_norm = lambda_dot * N_PN * np.linalg.norm(vel_missile)\n",
        "    \n",
        "    # vel_missileに垂直なベクトル\n",
        "    e_n = np.array([-vel_missile[1],vel_missile[0]]) #反時計回り 90deg\n",
        "    e_n = e_n/(np.linalg.norm(e_n) + 1.0e-6) # normalize\n",
        "    acc_missile = acc_norm * e_n\n",
        "    # 加速度の方向の確認\n",
        "    if np.dot(acc_missile, vel_target) < 0:\n",
        "      acc_missile *= -1.0\n",
        "\n",
        "    vel_missile+=acc_missile*delta_t\n",
        "    pos_missile+=vel_missile*delta_t\n",
        "\n",
        "    vel_target += acc_target*delta_t\n",
        "    pos_target += vel_target*delta_t\n",
        "\n",
        "    x_los = pos_target - pos_missile\n",
        "    v_los = vel_target - vel_missile\n",
        "\n",
        "    delta_lambda = np.arctan2((x_los + v_los*delta_t)[1],(x_los + v_los*delta_t)[0]) - np.arctan2(x_los[1],x_los[0])\n",
        "    lambda_dot = delta_lambda/delta_t\n",
        "    \n",
        "    # save to plot\n",
        "    df2 = pd.DataFrame({\"time\":[time],\n",
        "                   \"missile_x\":[pos_missile[0]],\n",
        "                   \"missile_y\":[pos_missile[1]],\n",
        "                   \"target_x\":[pos_target[0]],\n",
        "                   \"target_y\":[pos_target[1]],\n",
        "                   \"los_x\":[x_los[0]],\n",
        "                   \"los_y\":[x_los[1]],\n",
        "                   \"acc_norm\": [acc_norm]\n",
        "                   })\n",
        "    df = df.append(df2)\n",
        "\n",
        "    # if lambda_dot > 1.0:\n",
        "    #   print(\"emargency\")\n",
        "    #   # print(\"cos: {0}\".format((np.dot(x_los+v_los,x_los) + 1.0e-6)\n",
        "    #   #                        /(norm_product + 1.0e-6)))\n",
        "    #   print(\"vel_missile: {0}\".format(vel_missile))\n",
        "    #   print(\"lambda_dot: {0}\".format(lambda_dot))\n",
        "    #   display(df2)\n",
        "    #   break\n",
        "    \n",
        "    if np.linalg.norm(x_los) < 0.1:\n",
        "      print(\"hit! time{0}\".format(time))\n",
        "      break;\n",
        "### Simulation End ###"
      ],
      "execution_count": 0,
      "outputs": [
        {
          "output_type": "stream",
          "text": [
            "hit! time9.699999999999982\n"
          ],
          "name": "stdout"
        }
      ]
    },
    {
      "cell_type": "code",
      "metadata": {
        "id": "gqIppyrVf1ol",
        "colab_type": "code",
        "outputId": "aec417d0-bdb3-4699-bb97-fccf1c936bd8",
        "colab": {
          "base_uri": "https://localhost:8080/",
          "height": 546
        }
      },
      "source": [
        "plt.plot(df.missile_x,df.missile_y,label='missile',marker='.')\n",
        "plt.plot(df.target_x,df.target_y,label='target',marker='.')\n",
        "plt.xlabel('x')\n",
        "plt.ylabel('y')\n",
        "plt.axis('equal')\n",
        "plt.legend()\n",
        "plt.plot()"
      ],
      "execution_count": 0,
      "outputs": [
        {
          "output_type": "execute_result",
          "data": {
            "text/plain": [
              "[]"
            ]
          },
          "metadata": {
            "tags": []
          },
          "execution_count": 51
        },
        {
          "output_type": "display_data",
          "data": {
            "image/png": "[encoded data removed]",
            "text/plain": [
              "<Figure size 800x600 with 1 Axes>"
            ]
          },
          "metadata": {
            "tags": []
          }
        }
      ]
    },
    {
      "cell_type": "code",
      "metadata": {
        "id": "bl9NCvmAmy0U",
        "colab_type": "code",
        "outputId": "228153c9-e214-41f6-b7c2-101e670844fd",
        "colab": {
          "base_uri": "https://localhost:8080/",
          "height": 546
        }
      },
      "source": [
        "## Plot LOS\n",
        "plt.plot(df.los_x,df.los_y,label='los',marker='o')\n",
        "# plt.plot(df.target_x,df.target_y,label='target')\n",
        "plt.xlabel('x')\n",
        "plt.ylabel('y')\n",
        "plt.axis('equal')\n",
        "plt.legend()\n",
        "plt.plot()"
      ],
      "execution_count": 0,
      "outputs": [
        {
          "output_type": "execute_result",
          "data": {
            "text/plain": [
              "[]"
            ]
          },
          "metadata": {
            "tags": []
          },
          "execution_count": 52
        },
        {
          "output_type": "display_data",
          "data": {
            "image/png": "[encoded data removed]",
            "text/plain": [
              "<Figure size 800x600 with 1 Axes>"
            ]
          },
          "metadata": {
            "tags": []
          }
        }
      ]
    },
    {
      "cell_type": "code",
      "metadata": {
        "id": "qYPCJvg0jUyS",
        "colab_type": "code",
        "outputId": "b8824177-2dd3-471b-9eea-88ce759298ea",
        "colab": {
          "base_uri": "https://localhost:8080/",
          "height": 546
        }
      },
      "source": [
        "plt.plot(df.time,df.acc_norm,label='acc',marker='o')\n",
        "plt.xlabel('time')\n",
        "plt.ylabel('acc')\n",
        "plt.legend()\n",
        "plt.plot()"
      ],
      "execution_count": 0,
      "outputs": [
        {
          "output_type": "execute_result",
          "data": {
            "text/plain": [
              "[]"
            ]
          },
          "metadata": {
            "tags": []
          },
          "execution_count": 54
        },
        {
          "output_type": "display_data",
          "data": {
            "image/png": "[encoded data removed]",
            "text/plain": [
              "<Figure size 800x600 with 1 Axes>"
            ]
          },
          "metadata": {
            "tags": []
          }
        }
      ]
    },
    {
      "cell_type": "code",
      "metadata": {
        "id": "Q7A91FI2h39b",
        "colab_type": "code",
        "outputId": "76a8c424-d548-4b80-d468-f93a148f8905",
        "colab": {
          "base_uri": "https://localhost:8080/",
          "height": 419
        }
      },
      "source": [
        "display(df)"
      ],
      "execution_count": 0,
      "outputs": [
        {
          "output_type": "display_data",
          "data": {
            "text/html": [
              "<div>\n",
              "<style scoped>\n",
              "    .dataframe tbody tr th:only-of-type {\n",
              "        vertical-align: middle;\n",
              "    }\n",
              "\n",
              "    .dataframe tbody tr th {\n",
              "        vertical-align: top;\n",
              "    }\n",
              "\n",
              "    .dataframe thead th {\n",
              "        text-align: right;\n",
              "    }\n",
              "</style>\n",
              "<table border=\"1\" class=\"dataframe\">\n",
              "  <thead>\n",
              "    <tr style=\"text-align: right;\">\n",
              "      <th></th>\n",
              "      <th>time</th>\n",
              "      <th>missile_x</th>\n",
              "      <th>missile_y</th>\n",
              "      <th>target_x</th>\n",
              "      <th>target_y</th>\n",
              "      <th>acc</th>\n",
              "    </tr>\n",
              "  </thead>\n",
              "  <tbody>\n",
              "    <tr>\n",
              "      <th>0</th>\n",
              "      <td>0.0</td>\n",
              "      <td>0.000000</td>\n",
              "      <td>0.000000</td>\n",
              "      <td>10.00</td>\n",
              "      <td>0.00</td>\n",
              "      <td>0.000000</td>\n",
              "    </tr>\n",
              "    <tr>\n",
              "      <th>0</th>\n",
              "      <td>0.1</td>\n",
              "      <td>0.100000</td>\n",
              "      <td>0.100000</td>\n",
              "      <td>9.99</td>\n",
              "      <td>0.01</td>\n",
              "      <td>0.000000</td>\n",
              "    </tr>\n",
              "    <tr>\n",
              "      <th>0</th>\n",
              "      <td>0.2</td>\n",
              "      <td>0.196908</td>\n",
              "      <td>0.203092</td>\n",
              "      <td>9.98</td>\n",
              "      <td>0.02</td>\n",
              "      <td>0.437227</td>\n",
              "    </tr>\n",
              "    <tr>\n",
              "      <th>0</th>\n",
              "      <td>0.3</td>\n",
              "      <td>0.290463</td>\n",
              "      <td>0.309336</td>\n",
              "      <td>9.97</td>\n",
              "      <td>0.03</td>\n",
              "      <td>0.460285</td>\n",
              "    </tr>\n",
              "    <tr>\n",
              "      <th>0</th>\n",
              "      <td>0.4</td>\n",
              "      <td>0.380389</td>\n",
              "      <td>0.418775</td>\n",
              "      <td>9.96</td>\n",
              "      <td>0.04</td>\n",
              "      <td>0.483432</td>\n",
              "    </tr>\n",
              "    <tr>\n",
              "      <th>...</th>\n",
              "      <td>...</td>\n",
              "      <td>...</td>\n",
              "      <td>...</td>\n",
              "      <td>...</td>\n",
              "      <td>...</td>\n",
              "      <td>...</td>\n",
              "    </tr>\n",
              "    <tr>\n",
              "      <th>0</th>\n",
              "      <td>9.7</td>\n",
              "      <td>-5.585743</td>\n",
              "      <td>11.193773</td>\n",
              "      <td>9.03</td>\n",
              "      <td>0.97</td>\n",
              "      <td>0.053565</td>\n",
              "    </tr>\n",
              "    <tr>\n",
              "      <th>0</th>\n",
              "      <td>9.8</td>\n",
              "      <td>-5.688311</td>\n",
              "      <td>11.296781</td>\n",
              "      <td>9.02</td>\n",
              "      <td>0.98</td>\n",
              "      <td>0.051621</td>\n",
              "    </tr>\n",
              "    <tr>\n",
              "      <th>0</th>\n",
              "      <td>9.9</td>\n",
              "      <td>-5.791249</td>\n",
              "      <td>11.399421</td>\n",
              "      <td>9.01</td>\n",
              "      <td>0.99</td>\n",
              "      <td>0.052051</td>\n",
              "    </tr>\n",
              "    <tr>\n",
              "      <th>0</th>\n",
              "      <td>10.0</td>\n",
              "      <td>-5.893832</td>\n",
              "      <td>11.502417</td>\n",
              "      <td>9.00</td>\n",
              "      <td>1.00</td>\n",
              "      <td>0.050188</td>\n",
              "    </tr>\n",
              "    <tr>\n",
              "      <th>0</th>\n",
              "      <td>10.1</td>\n",
              "      <td>-5.996774</td>\n",
              "      <td>11.605056</td>\n",
              "      <td>8.99</td>\n",
              "      <td>1.01</td>\n",
              "      <td>0.050601</td>\n",
              "    </tr>\n",
              "  </tbody>\n",
              "</table>\n",
              "<p>102 rows × 6 columns</p>\n",
              "</div>"
            ],
            "text/plain": [
              "    time  missile_x  missile_y  target_x  target_y       acc\n",
              "0    0.0   0.000000   0.000000     10.00      0.00  0.000000\n",
              "0    0.1   0.100000   0.100000      9.99      0.01  0.000000\n",
              "0    0.2   0.196908   0.203092      9.98      0.02  0.437227\n",
              "0    0.3   0.290463   0.309336      9.97      0.03  0.460285\n",
              "0    0.4   0.380389   0.418775      9.96      0.04  0.483432\n",
              "..   ...        ...        ...       ...       ...       ...\n",
              "0    9.7  -5.585743  11.193773      9.03      0.97  0.053565\n",
              "0    9.8  -5.688311  11.296781      9.02      0.98  0.051621\n",
              "0    9.9  -5.791249  11.399421      9.01      0.99  0.052051\n",
              "0   10.0  -5.893832  11.502417      9.00      1.00  0.050188\n",
              "0   10.1  -5.996774  11.605056      8.99      1.01  0.050601\n",
              "\n",
              "[102 rows x 6 columns]"
            ]
          },
          "metadata": {
            "tags": []
          }
        }
      ]
    },
    {
      "cell_type": "code",
      "metadata": {
        "id": "q498r0T5VjvW",
        "colab_type": "code",
        "outputId": "6d883c96-cebb-4b00-ee43-15c57b4f72df",
        "colab": {}
      },
      "source": [
        "## source code of KOHEI\n",
        "\n",
        "#Target Initial condition\n",
        "vt0=1 #Target Velocity\n",
        "gammat0=np.pi/2\n",
        "xt=1\n",
        "yt=0\n",
        "nt=1.5\n",
        "gammat=gammat0\n",
        "vxt=vt0*np.cos(gammat)\n",
        "vyt=vt0*np.sin(gammat)\n",
        "\n",
        "\n",
        "#Missile Initial condition\n",
        "v0=3 #Missile Velovity\n",
        "gamma0=0\n",
        "x=0\n",
        "y=0\n",
        "n=0\n",
        "gamma=gamma0\n",
        "vx=v0*np.cos(gamma)\n",
        "vy=v0*np.sin(gamma)\n",
        "\n",
        "t=0\n",
        "h=0.00001\n",
        "\n",
        "#For log\n",
        "T=[]\n",
        "Xt=[]\n",
        "Yt=[]\n",
        "X=[]\n",
        "Y=[]\n",
        "N=[]\n",
        "\n",
        "\n",
        "#rtmx=xt-x\n",
        "#rtmy=yt-y\n",
        "#lambdaa=np.arctan2(rtmy, rtmx)\n",
        "\n",
        "\n",
        "#Initial LOS angle and LOS rate\n",
        "rtmx=xt-x\n",
        "rtmy=yt-y\n",
        "rtm=np.sqrt(rtmx**2+rtmy**2)\n",
        "vtmx=vxt-vx # relative velocity\n",
        "vtmy=vyt-vy\n",
        "\n",
        "## 元記事ではミサイルとターゲットの近く速度(相対速度)となっているが，この式はは相対ベクトルではない\n",
        "## Vc = - ( LOS \\cdot \\dot{LOS} ) / |LOS|^2\n",
        "vc=-(rtmx*vtmx+rtmy*vtmy)/rtm \n",
        "lambdaa=np.arctan2(rtmy, rtmx)\n",
        "lambdadot=(rtmx*vtmy-rtmy*vtmx)/rtm**2\n",
        "\n",
        "#Initial navigation(m)\n",
        "\n",
        "#PPN\n",
        "#n=1000*(lambdaa-gamma)\n",
        "\n",
        "#PN\n",
        "n=3*vc*lambdadot\n",
        "\n",
        "\n",
        "for i in range(500000):\n",
        "    T.append(t)\n",
        "    Xt.append(xt)\n",
        "    Yt.append(yt)\n",
        "    X.append(x)\n",
        "    Y.append(y)\n",
        "    N.append(n)\n",
        "    \n",
        "    #break\n",
        "    if np.sqrt((x-xt)**2+(y-yt)**2)<0.001:\n",
        "        break\n",
        "    \n",
        "    #Target\n",
        "    #pos\n",
        "    xt=xt+vxt*h\n",
        "    yt=yt+vyt*h\n",
        "\n",
        "    #velocity\n",
        "    vxt=vt0*np.cos(gammat)\n",
        "    vyt=vt0*np.sin(gammat)\n",
        "    \n",
        "    #angle\n",
        "    gammadott=nt/vt0\n",
        "    gammat=gammat+gammadott*h\n",
        "\n",
        "    #Missile    \n",
        "    #pos(m)\n",
        "    x=x+vx*h\n",
        "    y=y+vy*h\n",
        "\n",
        "    #velocity(m)\n",
        "    vx=vx-n*np.sin(lambdaa)*h\n",
        "    vy=vy+n*np.cos(lambdaa)*h\n",
        "    \n",
        "    #angle(m)\n",
        "    gamma=np.arctan2(vy, vx)\n",
        "\n",
        "    #LOS angle and LOS rate\n",
        "    rtmx=xt-x\n",
        "    rtmy=yt-y\n",
        "    rtm=np.sqrt(rtmx**2+rtmy**2)\n",
        "    vtmx=vxt-vx\n",
        "    vtmy=vyt-vy\n",
        "    \n",
        "    vc=-(rtmx*vtmx+rtmy*vtmy)/rtm\n",
        "    lambdaa=np.arctan2(rtmy, rtmx)\n",
        "    lambdadot=(rtmx*vtmy-rtmy*vtmx)/rtm**2\n",
        "\n",
        "    #navigation(m)\n",
        "    \n",
        "    #PPN\n",
        "    #n=1000*(lambdaa-gamma)\n",
        "    \n",
        "    #PN\n",
        "    n=3*vc*lambdadot\n",
        "    \n",
        "    #time\n",
        "    t=t+h\n",
        "    \n",
        "plt.figure(figsize=(10,10))\n",
        "plt.plot(X, Y,lw=2)    \n",
        "plt.plot(Xt, Yt, lw=2)\n",
        "plt.xlabel('x-pos')\n",
        "plt.ylabel('y-pos')\n",
        "plt.xlim(0,1)\n",
        "plt.ylim(0,1)\n",
        "\n",
        "\n",
        "plt.grid()\n",
        "plt.show()\n",
        "\n",
        "plt.figure(figsize=(10,5))\n",
        "plt.plot(T, N)\n",
        "plt.grid()\n",
        "plt.xlabel('Time')\n",
        "plt.ylabel('Acceleration Command')\n",
        "plt.show()"
      ],
      "execution_count": 0,
      "outputs": [
        {
          "output_type": "display_data",
          "data": {
            "image/png": "[encoded data removed]",
            "text/plain": [
              "<Figure size 720x720 with 1 Axes>"
            ]
          },
          "metadata": {
            "tags": [],
            "needs_background": "light"
          }
        },
        {
          "output_type": "display_data",
          "data": {
            "image/png": "[encoded data removed]",
            "text/plain": [
              "<Figure size 720x360 with 1 Axes>"
            ]
          },
          "metadata": {
            "tags": [],
            "needs_background": "light"
          }
        }
      ]
    }
  ]
}
